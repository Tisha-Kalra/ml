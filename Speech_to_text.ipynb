{
  "nbformat": 4,
  "nbformat_minor": 0,
  "metadata": {
    "colab": {
      "name": "Speech to text.ipynb",
      "provenance": [],
      "mount_file_id": "1AeOE0w2-ZRZac6luU5iZ0QG6nJcKqeeO",
      "authorship_tag": "ABX9TyNMX87UaHjYEejA6mwRn35h",
      "include_colab_link": true
    },
    "kernelspec": {
      "name": "python3",
      "display_name": "Python 3"
    },
    "language_info": {
      "name": "python"
    }
  },
  "cells": [
    {
      "cell_type": "markdown",
      "metadata": {
        "id": "view-in-github",
        "colab_type": "text"
      },
      "source": [
        "<a href=\"https://colab.research.google.com/github/Tisha-Kalra/ml/blob/main/Speech_to_text.ipynb\" target=\"_parent\"><img src=\"https://colab.research.google.com/assets/colab-badge.svg\" alt=\"Open In Colab\"/></a>"
      ]
    },
    {
      "cell_type": "code",
      "execution_count": 10,
      "metadata": {
        "colab": {
          "base_uri": "https://localhost:8080/"
        },
        "id": "SKGyIXnj-_he",
        "outputId": "a4f87fa3-7172-4b5e-8292-d05a7c57101a"
      },
      "outputs": [
        {
          "output_type": "stream",
          "name": "stdout",
          "text": [
            "Looking in indexes: https://pypi.org/simple, https://us-python.pkg.dev/colab-wheels/public/simple/\n",
            "Requirement already satisfied: SpeechRecognition in /usr/local/lib/python3.7/dist-packages (3.8.1)\n"
          ]
        }
      ],
      "source": [
        "pip install SpeechRecognition"
      ]
    },
    {
      "cell_type": "code",
      "source": [
        "import speech_recognition as sr\n",
        "r=sr.Recognizer()\n",
        "from google.colab import drive\n",
        "with sr.AudioFile('/content/drive/MyDrive/Content/Sample (1).wav') as source:\n",
        " audio_text=r.listen(source,phrase_time_limit=100)\n",
        " try:\n",
        "   text=r.recognize_google(audio_text)\n",
        "   print(\"converting audio to text--->  \")\n",
        "   print(text)\n",
        " except:\n",
        "   print(\"sorry run again\")\n",
        "\n"
      ],
      "metadata": {
        "colab": {
          "base_uri": "https://localhost:8080/"
        },
        "id": "2P-I1UlCBA8p",
        "outputId": "2c345f49-e02f-4b0b-ddd7-f8bbcbd0df2f"
      },
      "execution_count": 12,
      "outputs": [
        {
          "output_type": "stream",
          "name": "stdout",
          "text": [
            "converting audio to text--->  \n",
            "welcome to education today and tonight's question is should schools give tablets to students where do you stand on that Mrs Fagan they must and what's your opinion\n"
          ]
        }
      ]
    }
  ]
}